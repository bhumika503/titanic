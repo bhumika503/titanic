{
 "cells": [
  {
   "cell_type": "code",
   "execution_count": 1,
   "metadata": {},
   "outputs": [
    {
     "data": {
      "text/plain": [
       "<Figure size 720x720 with 0 Axes>"
      ]
     },
     "execution_count": 1,
     "metadata": {},
     "output_type": "execute_result"
    },
    {
     "data": {
      "text/plain": [
       "<Figure size 720x720 with 0 Axes>"
      ]
     },
     "metadata": {},
     "output_type": "display_data"
    }
   ],
   "source": [
    "import pandas as pd \n",
    "import numpy as np\n",
    "import matplotlib.pyplot as plt\n",
    "%matplotlib inline\n",
    "import sklearn\n",
    "import seaborn as sns\n",
    "import warnings\n",
    "\n",
    "from scipy.stats import f_oneway\n",
    "from statsmodels.stats.multicomp import pairwise_tukeyhsd\n",
    "\n",
    "warnings.filterwarnings('ignore')\n",
    "plt.figure(figsize=(10,10))"
   ]
  },
  {
   "cell_type": "code",
   "execution_count": 2,
   "metadata": {},
   "outputs": [],
   "source": [
    "train_data = pd.read_csv('input/train.csv')\n",
    "test_data = pd.read_csv('input/test.csv')\n",
    "total_data = pd.concat([train_data,test_data],axis = 0).reset_index(drop = True)\n",
    "\n",
    "total_data_ = total_data.copy()\n"
   ]
  },
  {
   "cell_type": "code",
   "execution_count": 3,
   "metadata": {},
   "outputs": [
    {
     "name": "stdout",
     "output_type": "stream",
     "text": [
      "train data: (891, 12)\n",
      "test data: (418, 11)\n"
     ]
    },
    {
     "data": {
      "text/plain": [
       "Index(['PassengerId', 'Pclass', 'Name', 'Sex', 'Age', 'SibSp', 'Parch',\n",
       "       'Ticket', 'Fare', 'Cabin', 'Embarked'],\n",
       "      dtype='object')"
      ]
     },
     "execution_count": 3,
     "metadata": {},
     "output_type": "execute_result"
    }
   ],
   "source": [
    "print('train data:', train_data.shape)\n",
    "print('test data:', test_data.shape)\n",
    "\n",
    "train_data.columns\n",
    "test_data.columns\n",
    "# The test data doesn't have the predictor column. "
   ]
  },
  {
   "cell_type": "code",
   "execution_count": 4,
   "metadata": {},
   "outputs": [
    {
     "data": {
      "text/html": [
       "<div>\n",
       "<style scoped>\n",
       "    .dataframe tbody tr th:only-of-type {\n",
       "        vertical-align: middle;\n",
       "    }\n",
       "\n",
       "    .dataframe tbody tr th {\n",
       "        vertical-align: top;\n",
       "    }\n",
       "\n",
       "    .dataframe thead th {\n",
       "        text-align: right;\n",
       "    }\n",
       "</style>\n",
       "<table border=\"1\" class=\"dataframe\">\n",
       "  <thead>\n",
       "    <tr style=\"text-align: right;\">\n",
       "      <th></th>\n",
       "      <th>PassengerId</th>\n",
       "      <th>Survived</th>\n",
       "      <th>Pclass</th>\n",
       "      <th>Name</th>\n",
       "      <th>Sex</th>\n",
       "      <th>Age</th>\n",
       "      <th>SibSp</th>\n",
       "      <th>Parch</th>\n",
       "      <th>Ticket</th>\n",
       "      <th>Fare</th>\n",
       "      <th>Cabin</th>\n",
       "      <th>Embarked</th>\n",
       "    </tr>\n",
       "  </thead>\n",
       "  <tbody>\n",
       "    <tr>\n",
       "      <th>0</th>\n",
       "      <td>1</td>\n",
       "      <td>0</td>\n",
       "      <td>3</td>\n",
       "      <td>Braund, Mr. Owen Harris</td>\n",
       "      <td>male</td>\n",
       "      <td>22.0</td>\n",
       "      <td>1</td>\n",
       "      <td>0</td>\n",
       "      <td>A/5 21171</td>\n",
       "      <td>7.2500</td>\n",
       "      <td>NaN</td>\n",
       "      <td>S</td>\n",
       "    </tr>\n",
       "    <tr>\n",
       "      <th>1</th>\n",
       "      <td>2</td>\n",
       "      <td>1</td>\n",
       "      <td>1</td>\n",
       "      <td>Cumings, Mrs. John Bradley (Florence Briggs Th...</td>\n",
       "      <td>female</td>\n",
       "      <td>38.0</td>\n",
       "      <td>1</td>\n",
       "      <td>0</td>\n",
       "      <td>PC 17599</td>\n",
       "      <td>71.2833</td>\n",
       "      <td>C85</td>\n",
       "      <td>C</td>\n",
       "    </tr>\n",
       "    <tr>\n",
       "      <th>2</th>\n",
       "      <td>3</td>\n",
       "      <td>1</td>\n",
       "      <td>3</td>\n",
       "      <td>Heikkinen, Miss. Laina</td>\n",
       "      <td>female</td>\n",
       "      <td>26.0</td>\n",
       "      <td>0</td>\n",
       "      <td>0</td>\n",
       "      <td>STON/O2. 3101282</td>\n",
       "      <td>7.9250</td>\n",
       "      <td>NaN</td>\n",
       "      <td>S</td>\n",
       "    </tr>\n",
       "  </tbody>\n",
       "</table>\n",
       "</div>"
      ],
      "text/plain": [
       "   PassengerId  Survived  Pclass  \\\n",
       "0            1         0       3   \n",
       "1            2         1       1   \n",
       "2            3         1       3   \n",
       "\n",
       "                                                Name     Sex   Age  SibSp  \\\n",
       "0                            Braund, Mr. Owen Harris    male  22.0      1   \n",
       "1  Cumings, Mrs. John Bradley (Florence Briggs Th...  female  38.0      1   \n",
       "2                             Heikkinen, Miss. Laina  female  26.0      0   \n",
       "\n",
       "   Parch            Ticket     Fare Cabin Embarked  \n",
       "0      0         A/5 21171   7.2500   NaN        S  \n",
       "1      0          PC 17599  71.2833   C85        C  \n",
       "2      0  STON/O2. 3101282   7.9250   NaN        S  "
      ]
     },
     "execution_count": 4,
     "metadata": {},
     "output_type": "execute_result"
    }
   ],
   "source": [
    "train_data.head(3)\n",
    "\n",
    "# Based on the columns, PassengerId is the unique id for each passenger. \n",
    "# Survived is binary variable: whether survived or not. \n",
    "# Pclass: Whether the Pclass is 1,3"
   ]
  },
  {
   "cell_type": "code",
   "execution_count": 5,
   "metadata": {},
   "outputs": [
    {
     "name": "stdout",
     "output_type": "stream",
     "text": [
      "<class 'pandas.core.frame.DataFrame'>\n",
      "RangeIndex: 1309 entries, 0 to 1308\n",
      "Data columns (total 12 columns):\n",
      " #   Column       Non-Null Count  Dtype  \n",
      "---  ------       --------------  -----  \n",
      " 0   PassengerId  1309 non-null   int64  \n",
      " 1   Survived     891 non-null    float64\n",
      " 2   Pclass       1309 non-null   int64  \n",
      " 3   Name         1309 non-null   object \n",
      " 4   Sex          1309 non-null   object \n",
      " 5   Age          1046 non-null   float64\n",
      " 6   SibSp        1309 non-null   int64  \n",
      " 7   Parch        1309 non-null   int64  \n",
      " 8   Ticket       1309 non-null   object \n",
      " 9   Fare         1308 non-null   float64\n",
      " 10  Cabin        295 non-null    object \n",
      " 11  Embarked     1307 non-null   object \n",
      "dtypes: float64(3), int64(4), object(5)\n",
      "memory usage: 122.8+ KB\n"
     ]
    }
   ],
   "source": [
    "# train_data.info()\n",
    "total_data.info()\n",
    "\n",
    "\n",
    "# out of the total 1309 entries, \n",
    "# Age is null, cabin is majorly null. \n",
    "# and embarked and fare are also null. "
   ]
  },
  {
   "cell_type": "markdown",
   "metadata": {},
   "source": [
    "### Missing Data "
   ]
  },
  {
   "cell_type": "code",
   "execution_count": 6,
   "metadata": {},
   "outputs": [
    {
     "data": {
      "image/png": "[encoded data removed]",
      "text/plain": [
       "<Figure size 432x288 with 1 Axes>"
      ]
     },
     "metadata": {
      "needs_background": "light"
     },
     "output_type": "display_data"
    }
   ],
   "source": [
    "# train_data.isnull() is a binary matrix that is plotted on seaborn heatmap. \n",
    "sns.heatmap(total_data_.isna(), yticklabels=False,cbar=False, cmap = 'tab20c_r')\n",
    "plt.title('Missing Data: Training Set')\n",
    "plt.show()"
   ]
  },
  {
   "cell_type": "code",
   "execution_count": 7,
   "metadata": {},
   "outputs": [
    {
     "name": "stdout",
     "output_type": "stream",
     "text": [
      "PassengerId 0.0 %\n",
      "Survived 31.93 %\n",
      "Pclass 0.0 %\n",
      "Name 0.0 %\n",
      "Sex 0.0 %\n",
      "Age 20.09 %\n",
      "SibSp 0.0 %\n",
      "Parch 0.0 %\n",
      "Ticket 0.0 %\n",
      "Fare 0.08 %\n",
      "Cabin 77.46 %\n",
      "Embarked 0.15 %\n"
     ]
    }
   ],
   "source": [
    "# % of missing data across all the columns \n",
    "for i in total_data_.columns: \n",
    "    print('{}'.format(i), round(sum(total_data_[i].isnull())/len(total_data_[i]) * 100,2), '%')"
   ]
  },
  {
   "cell_type": "markdown",
   "metadata": {},
   "source": [
    "Step 1: Impute Age \n",
    "Step 2: Impute Fare\n",
    "Step 3: Impute Embarked"
   ]
  },
  {
   "cell_type": "markdown",
   "metadata": {},
   "source": [
    "#### Step 1: Impute Age \n",
    "#### Method 1: Imputation of the Age values using correlation with passenger class.\n",
    "\n",
    "#### Visual Evidence: Plot a boxplot agains Pclass\n",
    "#### Quantitative evidence: Significant difference in the mean age of the groups. \n"
   ]
  },
  {
   "cell_type": "code",
   "execution_count": 8,
   "metadata": {},
   "outputs": [
    {
     "data": {
      "image/png": "[encoded data removed]",
      "text/plain": [
       "<Figure size 432x288 with 1 Axes>"
      ]
     },
     "metadata": {
      "needs_background": "light"
     },
     "output_type": "display_data"
    }
   ],
   "source": [
    "# Check visual evidence of correlation\n",
    "\n",
    "# Take the rows where the age column in not NA \n",
    "train_data = train_data[train_data['Age'].notna()]\n",
    "\n",
    "sns.boxplot(x='Pclass', y = 'Age', data = train_data)\n",
    "\n",
    "df_a = train_data[(train_data['Pclass'] == 1)]['Age']\n",
    "df_b = train_data[(train_data['Pclass'] == 2)]['Age']\n",
    "df_c = train_data[(train_data['Pclass'] == 3)]['Age']\n",
    "\n",
    "paired_df = train_data[['Pclass','Age']]\n"
   ]
  },
  {
   "cell_type": "code",
   "execution_count": 9,
   "metadata": {},
   "outputs": [
    {
     "data": {
      "text/plain": [
       "F_onewayResult(statistic=57.443484340676214, pvalue=7.487984171959904e-24)"
      ]
     },
     "execution_count": 9,
     "metadata": {},
     "output_type": "execute_result"
    }
   ],
   "source": [
    "f_oneway(df_a.to_list(), df_b.to_list(), df_c.to_list())"
   ]
  },
  {
   "cell_type": "code",
   "execution_count": 10,
   "metadata": {},
   "outputs": [
    {
     "name": "stdout",
     "output_type": "stream",
     "text": [
      " Multiple Comparison of Means - Tukey HSD, FWER=0.05 \n",
      "=====================================================\n",
      "group1 group2 meandiff p-adj  lower    upper   reject\n",
      "-----------------------------------------------------\n",
      "     1      2  -8.3558 0.001 -11.7042  -5.0074   True\n",
      "     1      3 -13.0928 0.001 -15.9623 -10.2234   True\n",
      "     2      3   -4.737 0.001  -7.6764  -1.7977   True\n",
      "-----------------------------------------------------\n"
     ]
    }
   ],
   "source": [
    "# Pairwise Tukey HSD test \n",
    "tukey = pairwise_tukeyhsd(endog=paired_df['Age'],\n",
    "                          groups=paired_df['Pclass'],\n",
    "                          alpha=0.05)\n",
    "print(tukey)"
   ]
  },
  {
   "cell_type": "code",
   "execution_count": 11,
   "metadata": {},
   "outputs": [],
   "source": [
    "# The group means across 2 and 3 are not siginificantly different. \n",
    "# Hence, we can impute the Age according to passenger categories such as class 1 and 2+3 but \n",
    "# cannot differentiate between 2 and 3. \n",
    "# use the same means across passenger class 2 and 3. "
   ]
  },
  {
   "cell_type": "code",
   "execution_count": 12,
   "metadata": {},
   "outputs": [
    {
     "name": "stdout",
     "output_type": "stream",
     "text": [
      "38.23\n",
      "26.69\n"
     ]
    }
   ],
   "source": [
    "# replace the values for age with the means in the specific groups. \n",
    "mean_age_group1 = round(train_data[(train_data['Pclass'] ==1)]['Age'].mean(),2)\n",
    "mean_age_group2 = round(train_data[(train_data['Pclass'] == 3) | (train_data['Pclass'] == 2)]['Age'].mean(),2)\n",
    "\n",
    "print(mean_age_group1)\n",
    "print(mean_age_group2)"
   ]
  },
  {
   "cell_type": "code",
   "execution_count": 13,
   "metadata": {},
   "outputs": [],
   "source": [
    "# Impute the values using the Pclass statistics \n",
    "\n",
    "# Imputation function\n",
    "def impute_age(row):\n",
    "    Age = row[0]  # Age is the dependent variable. \n",
    "    Pclass = row[1]  # Pclass is the independent variable. \n",
    "    \n",
    "    if pd.isnull(Age):\n",
    "\n",
    "        if Pclass == 1:\n",
    "            return 38\n",
    "\n",
    "        elif Pclass == 2 or Pclass == 3:\n",
    "            \n",
    "            return 27\n",
    "\n",
    "    else:\n",
    "        return Age\n",
    "    \n",
    "# Apply the function to the Age column\n",
    "total_data_['Age']=total_data_[['Age','Pclass']].apply(impute_age, axis =1)    "
   ]
  },
  {
   "cell_type": "code",
   "execution_count": 14,
   "metadata": {},
   "outputs": [
    {
     "data": {
      "text/plain": [
       "nan"
      ]
     },
     "execution_count": 14,
     "metadata": {},
     "output_type": "execute_result"
    }
   ],
   "source": [
    "# how is the correlation plot being used between numerical \n",
    "# and categorical variable. \n",
    "\n",
    "# Pandas and Numpy both have NAN detection libraries. \n",
    "pd.isna(2)\n",
    "pd.isna([2,3,4,np.nan,6,7])\n",
    "\n",
    "np.isnan(2)\n",
    "np.isnan([2,3,4,np.nan, 6,7])\n",
    "\n",
    "np.median([3,4,5, np.nan, 7,8])"
   ]
  },
  {
   "cell_type": "code",
   "execution_count": 15,
   "metadata": {},
   "outputs": [
    {
     "data": {
      "image/png": "[encoded data removed]",
      "text/plain": [
       "<Figure size 432x288 with 2 Axes>"
      ]
     },
     "metadata": {
      "needs_background": "light"
     },
     "output_type": "display_data"
    }
   ],
   "source": [
    "sns.heatmap(total_data_[[\"Age\",\"Sex\",\"SibSp\",\"Parch\",\"Pclass\"]].corr(), annot = True)\n",
    "# the correlation is plotted between the numerical variables. \n",
    "plt.show()"
   ]
  },
  {
   "cell_type": "code",
   "execution_count": 16,
   "metadata": {},
   "outputs": [],
   "source": [
    "# Sibsp: no: of sibling spouse aboard. \n",
    "# Parch: No: of Parents / children aboard. "
   ]
  },
  {
   "cell_type": "markdown",
   "metadata": {},
   "source": [
    "#### Impute Fare and Embarked \n"
   ]
  },
  {
   "cell_type": "code",
   "execution_count": 17,
   "metadata": {},
   "outputs": [
    {
     "data": {
      "text/plain": [
       "<AxesSubplot:>"
      ]
     },
     "execution_count": 17,
     "metadata": {},
     "output_type": "execute_result"
    },
    {
     "data": {
      "image/png": "[encoded data removed]",
      "text/plain": [
       "<Figure size 432x288 with 2 Axes>"
      ]
     },
     "metadata": {
      "needs_background": "light"
     },
     "output_type": "display_data"
    }
   ],
   "source": [
    "sns.heatmap(total_data_[['Fare', 'Pclass']].corr(), annot=True)\n"
   ]
  },
  {
   "cell_type": "code",
   "execution_count": 18,
   "metadata": {},
   "outputs": [
    {
     "data": {
      "text/plain": [
       "<AxesSubplot:xlabel='Pclass', ylabel='Fare'>"
      ]
     },
     "execution_count": 18,
     "metadata": {},
     "output_type": "execute_result"
    },
    {
     "data": {
      "image/png": "[encoded data removed]",
      "text/plain": [
       "<Figure size 432x288 with 1 Axes>"
      ]
     },
     "metadata": {
      "needs_background": "light"
     },
     "output_type": "display_data"
    }
   ],
   "source": [
    "sns.boxplot(x='Pclass', y='Fare', data=total_data_)\n",
    "# the boxplot shows not much difference in class 2 and 3 and these two data points \n",
    "# can be combined. "
   ]
  },
  {
   "cell_type": "code",
   "execution_count": 19,
   "metadata": {},
   "outputs": [
    {
     "name": "stdout",
     "output_type": "stream",
     "text": [
      "10.5\n"
     ]
    }
   ],
   "source": [
    "total_data_[total_data_['Fare'].isnull()]\n",
    "# calculate the average fare for Pclass = 2 and 3 and impute using that value . \n",
    "\n",
    "condition1 = total_data_['Pclass'] == 2\n",
    "condition2 = total_data_['Pclass'] == 3\n",
    "median_fare = total_data_[(condition1) | (condition2)]['Fare'].median()\n",
    "print(median_fare)\n",
    "\n",
    "\n"
   ]
  },
  {
   "cell_type": "code",
   "execution_count": 20,
   "metadata": {},
   "outputs": [
    {
     "data": {
      "text/html": [
       "<div>\n",
       "<style scoped>\n",
       "    .dataframe tbody tr th:only-of-type {\n",
       "        vertical-align: middle;\n",
       "    }\n",
       "\n",
       "    .dataframe tbody tr th {\n",
       "        vertical-align: top;\n",
       "    }\n",
       "\n",
       "    .dataframe thead th {\n",
       "        text-align: right;\n",
       "    }\n",
       "</style>\n",
       "<table border=\"1\" class=\"dataframe\">\n",
       "  <thead>\n",
       "    <tr style=\"text-align: right;\">\n",
       "      <th></th>\n",
       "      <th>PassengerId</th>\n",
       "      <th>Survived</th>\n",
       "      <th>Pclass</th>\n",
       "      <th>Name</th>\n",
       "      <th>Sex</th>\n",
       "      <th>Age</th>\n",
       "      <th>SibSp</th>\n",
       "      <th>Parch</th>\n",
       "      <th>Ticket</th>\n",
       "      <th>Fare</th>\n",
       "      <th>Cabin</th>\n",
       "      <th>Embarked</th>\n",
       "    </tr>\n",
       "  </thead>\n",
       "  <tbody>\n",
       "  </tbody>\n",
       "</table>\n",
       "</div>"
      ],
      "text/plain": [
       "Empty DataFrame\n",
       "Columns: [PassengerId, Survived, Pclass, Name, Sex, Age, SibSp, Parch, Ticket, Fare, Cabin, Embarked]\n",
       "Index: []"
      ]
     },
     "execution_count": 20,
     "metadata": {},
     "output_type": "execute_result"
    }
   ],
   "source": [
    "\n",
    "fare_nan_index = list(total_data_[total_data_['Fare'].isnull()].index)\n",
    "\n",
    "for i in fare_nan_index: \n",
    "    total_data_['Fare'].iloc[i]= median_fare\n",
    "\n",
    "total_data_[total_data_['Fare'].isnull()]"
   ]
  },
  {
   "cell_type": "markdown",
   "metadata": {},
   "source": [
    "### 3. Impute Embarked Values. "
   ]
  },
  {
   "cell_type": "code",
   "execution_count": 21,
   "metadata": {},
   "outputs": [
    {
     "data": {
      "text/plain": [
       "<AxesSubplot:xlabel='Embarked', ylabel='count'>"
      ]
     },
     "execution_count": 21,
     "metadata": {},
     "output_type": "execute_result"
    },
    {
     "data": {
      "image/png": "[encoded data removed]",
      "text/plain": [
       "<Figure size 432x288 with 1 Axes>"
      ]
     },
     "metadata": {
      "needs_background": "light"
     },
     "output_type": "display_data"
    }
   ],
   "source": [
    "total_data_[total_data_['Embarked'].isnull()]\n",
    "\n",
    "# Countplot used to plot the counts of each of the categories. \n",
    "sns.countplot(total_data_['Embarked'])"
   ]
  },
  {
   "cell_type": "code",
   "execution_count": 22,
   "metadata": {},
   "outputs": [
    {
     "data": {
      "image/png": "[encoded data removed]",
      "text/plain": [
       "<Figure size 432x288 with 1 Axes>"
      ]
     },
     "metadata": {
      "needs_background": "light"
     },
     "output_type": "display_data"
    }
   ],
   "source": [
    "# since there are only 2 values missing in the Embarked column. \n",
    "# the passengers embarked from any of these three locations. \n",
    "# we can just replace it with the mode. \n",
    "\n",
    "parch = train_data.groupby(['Embarked','Pclass']).Parch.count().unstack()\n",
    "p3 = parch.plot(kind = 'bar', stacked = True,\n",
    "                   color = ['grey','lightgreen', 'green'], alpha = .70)"
   ]
  },
  {
   "cell_type": "code",
   "execution_count": 23,
   "metadata": {},
   "outputs": [
    {
     "name": "stdout",
     "output_type": "stream",
     "text": [
      "S\n",
      "S\n"
     ]
    }
   ],
   "source": [
    "total_data_[total_data_['Embarked'].isnull()]\n",
    "# since the missing values belong to Pclass 1. \n",
    "# and Pclass 1 are distributed across 'C' and 'S'. 'S' is more frequent. \n",
    "\n",
    "embarked_nan_index = list(total_data_[total_data_['Embarked'].isnull()].index)\n",
    "\n",
    "embarked_mode = total_data_['Embarked'].mode()[0]\n",
    "embarked_mode2 = total_data_[(total_data_['Pclass'] == 1)]['Embarked'].mode()[0]\n",
    "\n",
    "for i in embarked_nan_index:\n",
    "    total_data_['Embarked'].iloc[i] = embarked_mode2\n",
    "    print(total_data_['Embarked'].iloc[i])\n"
   ]
  },
  {
   "cell_type": "code",
   "execution_count": 24,
   "metadata": {},
   "outputs": [
    {
     "data": {
      "text/plain": [
       "'S'"
      ]
     },
     "execution_count": 24,
     "metadata": {},
     "output_type": "execute_result"
    }
   ],
   "source": [
    "embarked_mode2[0]\n"
   ]
  },
  {
   "cell_type": "code",
   "execution_count": 25,
   "metadata": {},
   "outputs": [
    {
     "data": {
      "text/html": [
       "<div>\n",
       "<style scoped>\n",
       "    .dataframe tbody tr th:only-of-type {\n",
       "        vertical-align: middle;\n",
       "    }\n",
       "\n",
       "    .dataframe tbody tr th {\n",
       "        vertical-align: top;\n",
       "    }\n",
       "\n",
       "    .dataframe thead th {\n",
       "        text-align: right;\n",
       "    }\n",
       "</style>\n",
       "<table border=\"1\" class=\"dataframe\">\n",
       "  <thead>\n",
       "    <tr style=\"text-align: right;\">\n",
       "      <th></th>\n",
       "      <th>PassengerId</th>\n",
       "      <th>Survived</th>\n",
       "      <th>Pclass</th>\n",
       "      <th>Name</th>\n",
       "      <th>Sex</th>\n",
       "      <th>Age</th>\n",
       "      <th>SibSp</th>\n",
       "      <th>Parch</th>\n",
       "      <th>Ticket</th>\n",
       "      <th>Fare</th>\n",
       "      <th>Cabin</th>\n",
       "      <th>Embarked</th>\n",
       "    </tr>\n",
       "  </thead>\n",
       "  <tbody>\n",
       "  </tbody>\n",
       "</table>\n",
       "</div>"
      ],
      "text/plain": [
       "Empty DataFrame\n",
       "Columns: [PassengerId, Survived, Pclass, Name, Sex, Age, SibSp, Parch, Ticket, Fare, Cabin, Embarked]\n",
       "Index: []"
      ]
     },
     "execution_count": 25,
     "metadata": {},
     "output_type": "execute_result"
    }
   ],
   "source": [
    "total_data_[total_data_['Embarked'].isnull()]"
   ]
  },
  {
   "cell_type": "markdown",
   "metadata": {},
   "source": [
    "#### Drop the cabin column. "
   ]
  },
  {
   "cell_type": "code",
   "execution_count": 26,
   "metadata": {},
   "outputs": [],
   "source": [
    "# too many missing values in the cabin column. \n",
    "total_data_.drop(['Cabin'], axis=1, inplace=True)"
   ]
  },
  {
   "cell_type": "code",
   "execution_count": 27,
   "metadata": {},
   "outputs": [
    {
     "name": "stdout",
     "output_type": "stream",
     "text": [
      "<class 'pandas.core.frame.DataFrame'>\n",
      "RangeIndex: 1309 entries, 0 to 1308\n",
      "Data columns (total 11 columns):\n",
      " #   Column       Non-Null Count  Dtype  \n",
      "---  ------       --------------  -----  \n",
      " 0   PassengerId  1309 non-null   int64  \n",
      " 1   Survived     891 non-null    float64\n",
      " 2   Pclass       1309 non-null   int64  \n",
      " 3   Name         1309 non-null   object \n",
      " 4   Sex          1309 non-null   object \n",
      " 5   Age          1309 non-null   float64\n",
      " 6   SibSp        1309 non-null   int64  \n",
      " 7   Parch        1309 non-null   int64  \n",
      " 8   Ticket       1309 non-null   object \n",
      " 9   Fare         1309 non-null   float64\n",
      " 10  Embarked     1309 non-null   object \n",
      "dtypes: float64(3), int64(4), object(4)\n",
      "memory usage: 112.6+ KB\n",
      "None\n",
      "\n",
      "\n",
      "Non-Null Objects to Be Converted to Category\n",
      "Index(['Name', 'Sex', 'Ticket', 'Embarked'], dtype='object')\n"
     ]
    },
    {
     "data": {
      "text/plain": [
       "PassengerId      int64\n",
       "Survived       float64\n",
       "Pclass           int64\n",
       "Name            object\n",
       "Sex             object\n",
       "Age            float64\n",
       "SibSp            int64\n",
       "Parch            int64\n",
       "Ticket          object\n",
       "Fare           float64\n",
       "Embarked        object\n",
       "dtype: object"
      ]
     },
     "execution_count": 27,
     "metadata": {},
     "output_type": "execute_result"
    }
   ],
   "source": [
    "# Data types\n",
    "print(total_data_.info())\n",
    "\n",
    "# Identify non-null objects\n",
    "print('\\n')\n",
    "print('Non-Null Objects to Be Converted to Category')\n",
    "print(total_data_.select_dtypes(['object']).columns)\n",
    "\n",
    "total_data_.dtypes"
   ]
  },
  {
   "cell_type": "code",
   "execution_count": 28,
   "metadata": {},
   "outputs": [],
   "source": [
    "total_data_.drop(['Name', 'Ticket'], axis=1, inplace=True)\n",
    "objcat = ['Sex', 'Embarked']\n",
    "\n",
    "for colname in objcat:\n",
    "    total_data_[colname] = total_data_[colname].astype('category')"
   ]
  },
  {
   "cell_type": "code",
   "execution_count": 29,
   "metadata": {},
   "outputs": [
    {
     "data": {
      "text/html": [
       "<div>\n",
       "<style scoped>\n",
       "    .dataframe tbody tr th:only-of-type {\n",
       "        vertical-align: middle;\n",
       "    }\n",
       "\n",
       "    .dataframe tbody tr th {\n",
       "        vertical-align: top;\n",
       "    }\n",
       "\n",
       "    .dataframe thead th {\n",
       "        text-align: right;\n",
       "    }\n",
       "</style>\n",
       "<table border=\"1\" class=\"dataframe\">\n",
       "  <thead>\n",
       "    <tr style=\"text-align: right;\">\n",
       "      <th></th>\n",
       "      <th>count</th>\n",
       "      <th>mean</th>\n",
       "      <th>std</th>\n",
       "      <th>min</th>\n",
       "      <th>25%</th>\n",
       "      <th>50%</th>\n",
       "      <th>75%</th>\n",
       "      <th>max</th>\n",
       "    </tr>\n",
       "  </thead>\n",
       "  <tbody>\n",
       "    <tr>\n",
       "      <th>PassengerId</th>\n",
       "      <td>1309.0</td>\n",
       "      <td>655.000000</td>\n",
       "      <td>378.020061</td>\n",
       "      <td>1.00</td>\n",
       "      <td>328.0000</td>\n",
       "      <td>655.0000</td>\n",
       "      <td>982.000</td>\n",
       "      <td>1309.0000</td>\n",
       "    </tr>\n",
       "    <tr>\n",
       "      <th>Survived</th>\n",
       "      <td>891.0</td>\n",
       "      <td>0.383838</td>\n",
       "      <td>0.486592</td>\n",
       "      <td>0.00</td>\n",
       "      <td>0.0000</td>\n",
       "      <td>0.0000</td>\n",
       "      <td>1.000</td>\n",
       "      <td>1.0000</td>\n",
       "    </tr>\n",
       "    <tr>\n",
       "      <th>Pclass</th>\n",
       "      <td>1309.0</td>\n",
       "      <td>2.294882</td>\n",
       "      <td>0.837836</td>\n",
       "      <td>1.00</td>\n",
       "      <td>2.0000</td>\n",
       "      <td>3.0000</td>\n",
       "      <td>3.000</td>\n",
       "      <td>3.0000</td>\n",
       "    </tr>\n",
       "    <tr>\n",
       "      <th>Age</th>\n",
       "      <td>1309.0</td>\n",
       "      <td>29.630000</td>\n",
       "      <td>13.011553</td>\n",
       "      <td>0.17</td>\n",
       "      <td>22.0000</td>\n",
       "      <td>27.0000</td>\n",
       "      <td>37.000</td>\n",
       "      <td>80.0000</td>\n",
       "    </tr>\n",
       "    <tr>\n",
       "      <th>SibSp</th>\n",
       "      <td>1309.0</td>\n",
       "      <td>0.498854</td>\n",
       "      <td>1.041658</td>\n",
       "      <td>0.00</td>\n",
       "      <td>0.0000</td>\n",
       "      <td>0.0000</td>\n",
       "      <td>1.000</td>\n",
       "      <td>8.0000</td>\n",
       "    </tr>\n",
       "    <tr>\n",
       "      <th>Parch</th>\n",
       "      <td>1309.0</td>\n",
       "      <td>0.385027</td>\n",
       "      <td>0.865560</td>\n",
       "      <td>0.00</td>\n",
       "      <td>0.0000</td>\n",
       "      <td>0.0000</td>\n",
       "      <td>0.000</td>\n",
       "      <td>9.0000</td>\n",
       "    </tr>\n",
       "    <tr>\n",
       "      <th>Fare</th>\n",
       "      <td>1309.0</td>\n",
       "      <td>33.278065</td>\n",
       "      <td>51.742715</td>\n",
       "      <td>0.00</td>\n",
       "      <td>7.8958</td>\n",
       "      <td>14.4542</td>\n",
       "      <td>31.275</td>\n",
       "      <td>512.3292</td>\n",
       "    </tr>\n",
       "  </tbody>\n",
       "</table>\n",
       "</div>"
      ],
      "text/plain": [
       "              count        mean         std   min       25%       50%  \\\n",
       "PassengerId  1309.0  655.000000  378.020061  1.00  328.0000  655.0000   \n",
       "Survived      891.0    0.383838    0.486592  0.00    0.0000    0.0000   \n",
       "Pclass       1309.0    2.294882    0.837836  1.00    2.0000    3.0000   \n",
       "Age          1309.0   29.630000   13.011553  0.17   22.0000   27.0000   \n",
       "SibSp        1309.0    0.498854    1.041658  0.00    0.0000    0.0000   \n",
       "Parch        1309.0    0.385027    0.865560  0.00    0.0000    0.0000   \n",
       "Fare         1309.0   33.278065   51.742715  0.00    7.8958   14.4542   \n",
       "\n",
       "                 75%        max  \n",
       "PassengerId  982.000  1309.0000  \n",
       "Survived       1.000     1.0000  \n",
       "Pclass         3.000     3.0000  \n",
       "Age           37.000    80.0000  \n",
       "SibSp          1.000     8.0000  \n",
       "Parch          0.000     9.0000  \n",
       "Fare          31.275   512.3292  "
      ]
     },
     "execution_count": 29,
     "metadata": {},
     "output_type": "execute_result"
    }
   ],
   "source": [
    "# only numerical variables can be described. \n",
    "total_data_.describe().transpose()"
   ]
  },
  {
   "cell_type": "code",
   "execution_count": 30,
   "metadata": {},
   "outputs": [],
   "source": [
    "total_data_.drop(['PassengerId'], axis=1, inplace=True)"
   ]
  },
  {
   "cell_type": "markdown",
   "metadata": {},
   "source": [
    "### Exploratory Data Analysis \n",
    "1. Target Variable count and countplot"
   ]
  },
  {
   "cell_type": "code",
   "execution_count": null,
   "metadata": {},
   "outputs": [],
   "source": []
  },
  {
   "cell_type": "markdown",
   "metadata": {},
   "source": [
    "#### Target Variable"
   ]
  },
  {
   "cell_type": "code",
   "execution_count": 31,
   "metadata": {},
   "outputs": [
    {
     "name": "stdout",
     "output_type": "stream",
     "text": [
      "Target Variable\n",
      "Survived\n",
      "0.0    549\n",
      "1.0    342\n",
      "Name: Survived, dtype: int64\n"
     ]
    },
    {
     "data": {
      "image/png": "[encoded data removed]",
      "text/plain": [
       "<Figure size 720x360 with 1 Axes>"
      ]
     },
     "metadata": {},
     "output_type": "display_data"
    }
   ],
   "source": [
    "# Survival Count\n",
    "print('Target Variable')\n",
    "print(total_data_.groupby(['Survived'])['Survived'].count())\n",
    "\n",
    "# groupby will happen by survived but the metric to display on the right side. \n",
    "#  depends. Select column and the aggregation method. \n",
    "\n",
    "sns.set_style('darkgrid')\n",
    "plt.figure(figsize=(10,5))\n",
    "\n",
    "# alpha indicates the transparency of the graph. \n",
    "# \n",
    "sns.countplot(total_data_['Survived'], alpha  =0.8, palette = ['grey', 'lightgreen'] )\n",
    "plt.title('Survivors vs Non-Survivors')\n",
    "plt.ylabel('# Passengers')\n",
    "plt.show()\n"
   ]
  },
  {
   "cell_type": "markdown",
   "metadata": {},
   "source": [
    "#### Numeric Variables\n",
    "The numerical variables consist of: \n",
    "1. Continuous Variables \n",
    "2. Discrete Variables"
   ]
  },
  {
   "cell_type": "code",
   "execution_count": 32,
   "metadata": {},
   "outputs": [
    {
     "name": "stdout",
     "output_type": "stream",
     "text": [
      "Continuous Variables\n",
      "       count       mean        std   min      25%      50%     75%       max\n",
      "Age   1309.0  29.630000  13.011553  0.17  22.0000  27.0000  37.000   80.0000\n",
      "Fare  1309.0  33.278065  51.742715  0.00   7.8958  14.4542  31.275  512.3292\n",
      "________________________________________________________________________________\n",
      "Discrete Variables\n",
      "Pclass\n",
      "1    323\n",
      "2    277\n",
      "3    709\n",
      "Name: Pclass, dtype: int64\n",
      "SibSp\n",
      "0    891\n",
      "1    319\n",
      "2     42\n",
      "3     20\n",
      "4     22\n",
      "5      6\n",
      "8      9\n",
      "Name: SibSp, dtype: int64\n",
      "Parch\n",
      "0    1002\n",
      "1     170\n",
      "2     113\n",
      "3       8\n",
      "4       6\n",
      "5       6\n",
      "6       2\n",
      "9       2\n",
      "Name: Parch, dtype: int64\n"
     ]
    },
    {
     "data": {
      "text/plain": [
       "Text(0.5, 1.0, 'Age Distribution')"
      ]
     },
     "execution_count": 32,
     "metadata": {},
     "output_type": "execute_result"
    },
    {
     "data": {
      "image/png": "[encoded data removed]",
      "text/plain": [
       "<Figure size 1440x1152 with 5 Axes>"
      ]
     },
     "metadata": {},
     "output_type": "display_data"
    }
   ],
   "source": [
    "print('Continuous Variables')\n",
    "print(total_data_[['Age','Fare']].describe().transpose())\n",
    "print('__'* 40)\n",
    "\n",
    "print('Discrete Variables')\n",
    "print(total_data_.groupby(['Pclass'])['Pclass'].count())\n",
    "print(total_data_.groupby(['SibSp'])['SibSp'].count())\n",
    "print(total_data_.groupby(['Parch'])['Parch'].count())\n",
    "\n",
    "# Subplots of numeric features \n",
    "sns.set_style('darkgrid')\n",
    "fig = plt.figure(figsize=(20,16))\n",
    "fig.subplots_adjust(hspace=0.30)\n",
    "\n",
    "ax1 = fig.add_subplot(321)\n",
    "ax1.hist(total_data_['Pclass'])\n",
    "\n",
    "# with ax , need to write set_xlabel and set_ylabel functions. \n",
    "ax1.set_xlabel('Pclass', fontsize=15)\n",
    "ax1.set_ylabel('Count', fontsize=15)\n",
    "ax1.set_title('Passenger Class', fontsize=15)\n",
    "\n",
    "ax2 = fig.add_subplot(323)\n",
    "ax2.hist(total_data_['SibSp'])\n",
    "ax2.set_xlabel('SibSp', fontsize=15)\n",
    "ax2.set_ylabel('Count', fontsize=15)\n",
    "ax2.set_title('# of sibling- spouse', fontsize=15)\n",
    "\n",
    "ax3 = fig.add_subplot(325)\n",
    "ax3.hist(total_data_['Parch'])\n",
    "ax3.set_xlabel('Parch', fontsize=15)\n",
    "ax3.set_ylabel('Count', fontsize=15)\n",
    "ax3.set_title('# of Parent -children', fontsize=15)\n",
    "\n",
    "ax4 = fig.add_subplot(222)\n",
    "ax4.hist(total_data_['Age'], bins=20, alpha=0.50, edgecolor='black', color = 'teal')\n",
    "ax4.set_xlabel('Age', fontsize=15)\n",
    "ax4.set_ylabel('Count', fontsize=15)\n",
    "ax4.set_title('Age Distribution', fontsize=15)\n",
    "\n",
    "ax5 = fig.add_subplot(224)\n",
    "ax5.hist(total_data_['Fare'], bins=20, alpha=0.50, edgecolor='black', color = 'teal')\n",
    "ax5.set_xlabel('Fare', fontsize=15)\n",
    "ax5.set_ylabel('Count', fontsize=15)\n",
    "ax5.set_title('Age Distribution', fontsize=15)\n",
    "\n"
   ]
  },
  {
   "cell_type": "markdown",
   "metadata": {},
   "source": [
    "1. Fare has a long-tail distribution. Bulk of the fare is under $25 with a median fare of $14, data is skewed to the right up to $500. \n",
    "2. Majority of travellers: 3rd class, without any spouse or children. single. 30 and below. median age. "
   ]
  },
  {
   "cell_type": "code",
   "execution_count": 33,
   "metadata": {},
   "outputs": [
    {
     "data": {
      "text/html": [
       "<div>\n",
       "<style scoped>\n",
       "    .dataframe tbody tr th:only-of-type {\n",
       "        vertical-align: middle;\n",
       "    }\n",
       "\n",
       "    .dataframe tbody tr th {\n",
       "        vertical-align: top;\n",
       "    }\n",
       "\n",
       "    .dataframe thead th {\n",
       "        text-align: right;\n",
       "    }\n",
       "</style>\n",
       "<table border=\"1\" class=\"dataframe\">\n",
       "  <thead>\n",
       "    <tr style=\"text-align: right;\">\n",
       "      <th></th>\n",
       "      <th>Age</th>\n",
       "      <th>Age_Bin</th>\n",
       "    </tr>\n",
       "  </thead>\n",
       "  <tbody>\n",
       "    <tr>\n",
       "      <th>(0.0892, 4.162]</th>\n",
       "      <td>51</td>\n",
       "      <td>3.90</td>\n",
       "    </tr>\n",
       "    <tr>\n",
       "      <th>(4.162, 8.153]</th>\n",
       "      <td>21</td>\n",
       "      <td>5.50</td>\n",
       "    </tr>\n",
       "    <tr>\n",
       "      <th>(8.153, 12.144]</th>\n",
       "      <td>22</td>\n",
       "      <td>7.18</td>\n",
       "    </tr>\n",
       "    <tr>\n",
       "      <th>(12.144, 16.136]</th>\n",
       "      <td>40</td>\n",
       "      <td>10.24</td>\n",
       "    </tr>\n",
       "    <tr>\n",
       "      <th>(16.136, 20.128]</th>\n",
       "      <td>114</td>\n",
       "      <td>18.95</td>\n",
       "    </tr>\n",
       "    <tr>\n",
       "      <th>(20.128, 24.119]</th>\n",
       "      <td>160</td>\n",
       "      <td>31.17</td>\n",
       "    </tr>\n",
       "    <tr>\n",
       "      <th>(24.119, 28.11]</th>\n",
       "      <td>352</td>\n",
       "      <td>58.06</td>\n",
       "    </tr>\n",
       "    <tr>\n",
       "      <th>(28.11, 32.102]</th>\n",
       "      <td>122</td>\n",
       "      <td>67.38</td>\n",
       "    </tr>\n",
       "    <tr>\n",
       "      <th>(32.102, 36.094]</th>\n",
       "      <td>97</td>\n",
       "      <td>74.79</td>\n",
       "    </tr>\n",
       "    <tr>\n",
       "      <th>(36.094, 40.085]</th>\n",
       "      <td>103</td>\n",
       "      <td>82.66</td>\n",
       "    </tr>\n",
       "    <tr>\n",
       "      <th>(40.085, 44.076]</th>\n",
       "      <td>51</td>\n",
       "      <td>86.55</td>\n",
       "    </tr>\n",
       "    <tr>\n",
       "      <th>(44.076, 48.068]</th>\n",
       "      <td>57</td>\n",
       "      <td>90.91</td>\n",
       "    </tr>\n",
       "    <tr>\n",
       "      <th>(48.068, 52.06]</th>\n",
       "      <td>38</td>\n",
       "      <td>93.81</td>\n",
       "    </tr>\n",
       "    <tr>\n",
       "      <th>(52.06, 56.051]</th>\n",
       "      <td>27</td>\n",
       "      <td>95.87</td>\n",
       "    </tr>\n",
       "    <tr>\n",
       "      <th>(56.051, 60.042]</th>\n",
       "      <td>21</td>\n",
       "      <td>97.48</td>\n",
       "    </tr>\n",
       "    <tr>\n",
       "      <th>(60.042, 64.034]</th>\n",
       "      <td>20</td>\n",
       "      <td>99.01</td>\n",
       "    </tr>\n",
       "    <tr>\n",
       "      <th>(64.034, 68.026]</th>\n",
       "      <td>5</td>\n",
       "      <td>99.39</td>\n",
       "    </tr>\n",
       "    <tr>\n",
       "      <th>(68.026, 72.017]</th>\n",
       "      <td>5</td>\n",
       "      <td>99.77</td>\n",
       "    </tr>\n",
       "    <tr>\n",
       "      <th>(72.017, 76.008]</th>\n",
       "      <td>2</td>\n",
       "      <td>99.92</td>\n",
       "    </tr>\n",
       "    <tr>\n",
       "      <th>(76.008, 80.0]</th>\n",
       "      <td>1</td>\n",
       "      <td>100.00</td>\n",
       "    </tr>\n",
       "  </tbody>\n",
       "</table>\n",
       "</div>"
      ],
      "text/plain": [
       "                  Age  Age_Bin\n",
       "(0.0892, 4.162]    51     3.90\n",
       "(4.162, 8.153]     21     5.50\n",
       "(8.153, 12.144]    22     7.18\n",
       "(12.144, 16.136]   40    10.24\n",
       "(16.136, 20.128]  114    18.95\n",
       "(20.128, 24.119]  160    31.17\n",
       "(24.119, 28.11]   352    58.06\n",
       "(28.11, 32.102]   122    67.38\n",
       "(32.102, 36.094]   97    74.79\n",
       "(36.094, 40.085]  103    82.66\n",
       "(40.085, 44.076]   51    86.55\n",
       "(44.076, 48.068]   57    90.91\n",
       "(48.068, 52.06]    38    93.81\n",
       "(52.06, 56.051]    27    95.87\n",
       "(56.051, 60.042]   21    97.48\n",
       "(60.042, 64.034]   20    99.01\n",
       "(64.034, 68.026]    5    99.39\n",
       "(68.026, 72.017]    5    99.77\n",
       "(72.017, 76.008]    2    99.92\n",
       "(76.008, 80.0]      1   100.00"
      ]
     },
     "execution_count": 33,
     "metadata": {},
     "output_type": "execute_result"
    }
   ],
   "source": [
    "# create bins -> count the people in each age bin. \n",
    "# create a cumulative count. \n",
    "\n",
    "df_age_bin = pd.DataFrame(total_data_['Age'].value_counts(bins=20, sort=False))\n",
    "df_age_bin['Age_Bin'] = round(df_age_bin['Age'].cumsum() * 100/df_age_bin['Age'].sum(),2)\n",
    "df_age_bin\n",
    "\n",
    "# Age 28 and below account for 58% of the total population. \n",
    "# Most of the population was young. "
   ]
  },
  {
   "cell_type": "code",
   "execution_count": 34,
   "metadata": {},
   "outputs": [
    {
     "name": "stdout",
     "output_type": "stream",
     "text": [
      "Median Fare: 14.45\n"
     ]
    },
    {
     "data": {
      "text/html": [
       "<div>\n",
       "<style scoped>\n",
       "    .dataframe tbody tr th:only-of-type {\n",
       "        vertical-align: middle;\n",
       "    }\n",
       "\n",
       "    .dataframe tbody tr th {\n",
       "        vertical-align: top;\n",
       "    }\n",
       "\n",
       "    .dataframe thead th {\n",
       "        text-align: right;\n",
       "    }\n",
       "</style>\n",
       "<table border=\"1\" class=\"dataframe\">\n",
       "  <thead>\n",
       "    <tr style=\"text-align: right;\">\n",
       "      <th></th>\n",
       "      <th>Fare</th>\n",
       "      <th>Fare_Bin</th>\n",
       "    </tr>\n",
       "  </thead>\n",
       "  <tbody>\n",
       "    <tr>\n",
       "      <th>(-0.513, 25.616]</th>\n",
       "      <td>828</td>\n",
       "      <td>63.25</td>\n",
       "    </tr>\n",
       "    <tr>\n",
       "      <th>(25.616, 51.233]</th>\n",
       "      <td>243</td>\n",
       "      <td>81.82</td>\n",
       "    </tr>\n",
       "    <tr>\n",
       "      <th>(51.233, 76.849]</th>\n",
       "      <td>102</td>\n",
       "      <td>89.61</td>\n",
       "    </tr>\n",
       "    <tr>\n",
       "      <th>(76.849, 102.466]</th>\n",
       "      <td>52</td>\n",
       "      <td>93.58</td>\n",
       "    </tr>\n",
       "    <tr>\n",
       "      <th>(102.466, 128.082]</th>\n",
       "      <td>17</td>\n",
       "      <td>94.88</td>\n",
       "    </tr>\n",
       "    <tr>\n",
       "      <th>(128.082, 153.699]</th>\n",
       "      <td>25</td>\n",
       "      <td>96.79</td>\n",
       "    </tr>\n",
       "    <tr>\n",
       "      <th>(153.699, 179.315]</th>\n",
       "      <td>4</td>\n",
       "      <td>97.10</td>\n",
       "    </tr>\n",
       "    <tr>\n",
       "      <th>(179.315, 204.932]</th>\n",
       "      <td>0</td>\n",
       "      <td>97.10</td>\n",
       "    </tr>\n",
       "    <tr>\n",
       "      <th>(204.932, 230.548]</th>\n",
       "      <td>18</td>\n",
       "      <td>98.47</td>\n",
       "    </tr>\n",
       "    <tr>\n",
       "      <th>(230.548, 256.165]</th>\n",
       "      <td>3</td>\n",
       "      <td>98.70</td>\n",
       "    </tr>\n",
       "    <tr>\n",
       "      <th>(256.165, 281.781]</th>\n",
       "      <td>13</td>\n",
       "      <td>99.69</td>\n",
       "    </tr>\n",
       "    <tr>\n",
       "      <th>(281.781, 307.398]</th>\n",
       "      <td>0</td>\n",
       "      <td>99.69</td>\n",
       "    </tr>\n",
       "    <tr>\n",
       "      <th>(307.398, 333.014]</th>\n",
       "      <td>0</td>\n",
       "      <td>99.69</td>\n",
       "    </tr>\n",
       "    <tr>\n",
       "      <th>(333.014, 358.63]</th>\n",
       "      <td>0</td>\n",
       "      <td>99.69</td>\n",
       "    </tr>\n",
       "    <tr>\n",
       "      <th>(358.63, 384.247]</th>\n",
       "      <td>0</td>\n",
       "      <td>99.69</td>\n",
       "    </tr>\n",
       "    <tr>\n",
       "      <th>(384.247, 409.863]</th>\n",
       "      <td>0</td>\n",
       "      <td>99.69</td>\n",
       "    </tr>\n",
       "    <tr>\n",
       "      <th>(409.863, 435.48]</th>\n",
       "      <td>0</td>\n",
       "      <td>99.69</td>\n",
       "    </tr>\n",
       "    <tr>\n",
       "      <th>(435.48, 461.096]</th>\n",
       "      <td>0</td>\n",
       "      <td>99.69</td>\n",
       "    </tr>\n",
       "    <tr>\n",
       "      <th>(461.096, 486.713]</th>\n",
       "      <td>0</td>\n",
       "      <td>99.69</td>\n",
       "    </tr>\n",
       "    <tr>\n",
       "      <th>(486.713, 512.329]</th>\n",
       "      <td>4</td>\n",
       "      <td>100.00</td>\n",
       "    </tr>\n",
       "  </tbody>\n",
       "</table>\n",
       "</div>"
      ],
      "text/plain": [
       "                    Fare  Fare_Bin\n",
       "(-0.513, 25.616]     828     63.25\n",
       "(25.616, 51.233]     243     81.82\n",
       "(51.233, 76.849]     102     89.61\n",
       "(76.849, 102.466]     52     93.58\n",
       "(102.466, 128.082]    17     94.88\n",
       "(128.082, 153.699]    25     96.79\n",
       "(153.699, 179.315]     4     97.10\n",
       "(179.315, 204.932]     0     97.10\n",
       "(204.932, 230.548]    18     98.47\n",
       "(230.548, 256.165]     3     98.70\n",
       "(256.165, 281.781]    13     99.69\n",
       "(281.781, 307.398]     0     99.69\n",
       "(307.398, 333.014]     0     99.69\n",
       "(333.014, 358.63]      0     99.69\n",
       "(358.63, 384.247]      0     99.69\n",
       "(384.247, 409.863]     0     99.69\n",
       "(409.863, 435.48]      0     99.69\n",
       "(435.48, 461.096]      0     99.69\n",
       "(461.096, 486.713]     0     99.69\n",
       "(486.713, 512.329]     4    100.00"
      ]
     },
     "execution_count": 34,
     "metadata": {},
     "output_type": "execute_result"
    }
   ],
   "source": [
    "df_fare_bin = pd.DataFrame(total_data_['Fare'].value_counts(bins=20, sort=False))\n",
    "df_fare_bin['Fare_Bin'] = round(df_fare_bin['Fare'].cumsum() * 100/df_fare_bin['Fare'].sum(),2)\n",
    "\n",
    "# Fare has a long-tail distribution. \n",
    "# More than half of the passengers paid a fare of $26 and less. \n",
    "# median fare. \n",
    "print('Median Fare:', round(total_data_['Fare'].median(),2))\n",
    "df_fare_bin"
   ]
  },
  {
   "cell_type": "code",
   "execution_count": 35,
   "metadata": {},
   "outputs": [
    {
     "name": "stdout",
     "output_type": "stream",
     "text": [
      "Statistical Summary of Age and Fare\n",
      "\n",
      "\n",
      "Did Not Survive\n",
      "      count       mean        std  min      25%   50%   75%    max\n",
      "Age   549.0  30.121129  12.608811  1.0  23.0000  27.0  37.0   74.0\n",
      "Fare  549.0  22.117887  31.388207  0.0   7.8542  10.5  26.0  263.0\n",
      "\n",
      "\n",
      "Survive\n",
      "      count       mean        std   min     25%   50%    75%       max\n",
      "Age   342.0  28.589678  13.907295  0.42  21.000  27.0  36.75   80.0000\n",
      "Fare  342.0  48.395408  66.596998  0.00  12.475  26.0  57.00  512.3292\n"
     ]
    }
   ],
   "source": [
    "# Explore continuous and Factor Variables. \n",
    "# Continuous: Age, Fare\n",
    "# Factor: Age, Pclass, Parch, Sibsp\n",
    "# Target vs continuous variables. \n",
    "\n",
    "print('Statistical Summary of Age and Fare')\n",
    "print('\\n') # Break. \n",
    "print('Did Not Survive')\n",
    "print(total_data_[total_data_['Survived']==0][['Age', 'Fare']].describe().transpose())\n",
    "print('\\n') # Break. \n",
    "\n",
    "print('Survive')\n",
    "print(total_data_[total_data_['Survived']==1][['Age', 'Fare']].describe().transpose())\n"
   ]
  },
  {
   "cell_type": "code",
   "execution_count": 36,
   "metadata": {},
   "outputs": [
    {
     "data": {
      "text/plain": [
       "<matplotlib.legend.Legend at 0x120828fd0>"
      ]
     },
     "execution_count": 36,
     "metadata": {},
     "output_type": "execute_result"
    },
    {
     "data": {
      "image/png": "[encoded data removed]",
      "text/plain": [
       "<Figure size 1152x720 with 2 Axes>"
      ]
     },
     "metadata": {},
     "output_type": "display_data"
    }
   ],
   "source": [
    "fig = plt.figure(figsize = (16,10))\n",
    "fig.subplots_adjust(hspace = .30)\n",
    "\n",
    "ax1 = fig.add_subplot(221)\n",
    "ax1.hist(total_data_[total_data_['Survived'] ==0].Age, bins=23, label='Did Not Survive', alpha=0.5)\n",
    "ax1.hist(total_data_[total_data_['Survived'] ==1].Age, bins=23, label='Survive', alpha=0.5)\n",
    "ax1.legend()\n",
    "\n",
    "ax2 = fig.add_subplot(223)\n",
    "ax2.hist(total_data_[total_data_['Survived'] ==0].Fare, bins=23, label='Did Not Survive', alpha=0.5)\n",
    "ax2.hist(total_data_[total_data_['Survived'] ==1].Fare, bins=23, label='Survive', alpha=0.5)\n",
    "ax2.legend()\n",
    "\n",
    "\n",
    "# < 10 years old survived. but the younger people in 18-30 range, majority didn't survive.\n",
    "# those who paid < $25 didn't survive much. \n",
    "# those who paid > $100 as fare tend to \n",
    "# survive more than those who paid lower fares."
   ]
  },
  {
   "cell_type": "markdown",
   "metadata": {},
   "source": [
    "### Getting model ready"
   ]
  },
  {
   "cell_type": "code",
   "execution_count": 37,
   "metadata": {},
   "outputs": [],
   "source": [
    "sex = pd.get_dummies(total_data_['Sex'], drop_first=True)\n",
    "embarked = pd.get_dummies(total_data_['Embarked'], drop_first=True)\n",
    "\n",
    "total_data_ = pd.concat([total_data_, sex, embarked], axis=1)"
   ]
  },
  {
   "cell_type": "code",
   "execution_count": 38,
   "metadata": {},
   "outputs": [],
   "source": [
    "total_data_.drop(['Sex', 'Embarked'], axis=1, inplace=True)"
   ]
  },
  {
   "cell_type": "code",
   "execution_count": 39,
   "metadata": {},
   "outputs": [],
   "source": [
    "total_data_.head()\n",
    "# Split the cleaned dataset into trained and test. \n",
    "\n",
    "# when train and test are concatted, the indices remain. \n",
    "# the rows don't get jumbled up. \n",
    "train_data = total_data_[0:len(train_data)]\n",
    "test_data = total_data_[len(train_data):]"
   ]
  },
  {
   "cell_type": "code",
   "execution_count": 40,
   "metadata": {},
   "outputs": [
    {
     "data": {
      "text/html": [
       "<div>\n",
       "<style scoped>\n",
       "    .dataframe tbody tr th:only-of-type {\n",
       "        vertical-align: middle;\n",
       "    }\n",
       "\n",
       "    .dataframe tbody tr th {\n",
       "        vertical-align: top;\n",
       "    }\n",
       "\n",
       "    .dataframe thead th {\n",
       "        text-align: right;\n",
       "    }\n",
       "</style>\n",
       "<table border=\"1\" class=\"dataframe\">\n",
       "  <thead>\n",
       "    <tr style=\"text-align: right;\">\n",
       "      <th></th>\n",
       "      <th>Survived</th>\n",
       "      <th>Pclass</th>\n",
       "      <th>Age</th>\n",
       "      <th>SibSp</th>\n",
       "      <th>Parch</th>\n",
       "      <th>Fare</th>\n",
       "      <th>male</th>\n",
       "      <th>Q</th>\n",
       "      <th>S</th>\n",
       "    </tr>\n",
       "  </thead>\n",
       "  <tbody>\n",
       "    <tr>\n",
       "      <th>0</th>\n",
       "      <td>0.0</td>\n",
       "      <td>3</td>\n",
       "      <td>22.0</td>\n",
       "      <td>1</td>\n",
       "      <td>0</td>\n",
       "      <td>7.2500</td>\n",
       "      <td>1</td>\n",
       "      <td>0</td>\n",
       "      <td>1</td>\n",
       "    </tr>\n",
       "    <tr>\n",
       "      <th>1</th>\n",
       "      <td>1.0</td>\n",
       "      <td>1</td>\n",
       "      <td>38.0</td>\n",
       "      <td>1</td>\n",
       "      <td>0</td>\n",
       "      <td>71.2833</td>\n",
       "      <td>0</td>\n",
       "      <td>0</td>\n",
       "      <td>0</td>\n",
       "    </tr>\n",
       "    <tr>\n",
       "      <th>2</th>\n",
       "      <td>1.0</td>\n",
       "      <td>3</td>\n",
       "      <td>26.0</td>\n",
       "      <td>0</td>\n",
       "      <td>0</td>\n",
       "      <td>7.9250</td>\n",
       "      <td>0</td>\n",
       "      <td>0</td>\n",
       "      <td>1</td>\n",
       "    </tr>\n",
       "    <tr>\n",
       "      <th>3</th>\n",
       "      <td>1.0</td>\n",
       "      <td>1</td>\n",
       "      <td>35.0</td>\n",
       "      <td>1</td>\n",
       "      <td>0</td>\n",
       "      <td>53.1000</td>\n",
       "      <td>0</td>\n",
       "      <td>0</td>\n",
       "      <td>1</td>\n",
       "    </tr>\n",
       "    <tr>\n",
       "      <th>4</th>\n",
       "      <td>0.0</td>\n",
       "      <td>3</td>\n",
       "      <td>35.0</td>\n",
       "      <td>0</td>\n",
       "      <td>0</td>\n",
       "      <td>8.0500</td>\n",
       "      <td>1</td>\n",
       "      <td>0</td>\n",
       "      <td>1</td>\n",
       "    </tr>\n",
       "  </tbody>\n",
       "</table>\n",
       "</div>"
      ],
      "text/plain": [
       "   Survived  Pclass   Age  SibSp  Parch     Fare  male  Q  S\n",
       "0       0.0       3  22.0      1      0   7.2500     1  0  1\n",
       "1       1.0       1  38.0      1      0  71.2833     0  0  0\n",
       "2       1.0       3  26.0      0      0   7.9250     0  0  1\n",
       "3       1.0       1  35.0      1      0  53.1000     0  0  1\n",
       "4       0.0       3  35.0      0      0   8.0500     1  0  1"
      ]
     },
     "execution_count": 40,
     "metadata": {},
     "output_type": "execute_result"
    }
   ],
   "source": [
    "train_data.head()"
   ]
  },
  {
   "cell_type": "code",
   "execution_count": 43,
   "metadata": {},
   "outputs": [],
   "source": [
    "y= train_data['Survived']\n",
    "x = train_data.drop(['Survived'], axis=1)\n",
    "\n",
    "\n",
    "from sklearn.model_selection import train_test_split\n",
    "from sklearn.metrics import accuracy_score \n",
    "x_train, x_test, y_train, y_test = train_test_split(x,y, test_size = 0.20, random_state=101)"
   ]
  },
  {
   "cell_type": "code",
   "execution_count": 44,
   "metadata": {},
   "outputs": [
    {
     "name": "stdout",
     "output_type": "stream",
     "text": [
      "LReg: 68.53\n",
      "SVC: 65.03\n",
      "KNN: 66.43\n",
      "DTree: 66.43\n",
      "RFC: 66.43\n"
     ]
    }
   ],
   "source": [
    "from sklearn.linear_model import LogisticRegression\n",
    "from sklearn.svm import SVC\n",
    "from sklearn.preprocessing import StandardScaler\n",
    "from sklearn.neighbors import KNeighborsClassifier\n",
    "from sklearn.tree import DecisionTreeClassifier\n",
    "from sklearn.ensemble import RandomForestClassifier\n",
    "\n",
    "\n",
    "# Creating an Instance for the model\n",
    "lreg = LogisticRegression()\n",
    "svc = SVC()\n",
    "knn = KNeighborsClassifier(n_neighbors=13)\n",
    "dtree = DecisionTreeClassifier()\n",
    "rfc = RandomForestClassifier(n_estimators=200)\n",
    "\n",
    "\n",
    "# Fit on the Training Data \n",
    "lreg.fit(x_train, y_train)\n",
    "svc.fit(x_train, y_train)\n",
    "knn.fit(x_train, y_train)\n",
    "dtree.fit(x_train, y_train)\n",
    "rfc.fit(x_train, y_train)\n",
    "\n",
    "\n",
    "# Predict \n",
    "y_pred_lreg = lreg.predict(x_test)\n",
    "y_pred_svc = svc.predict(x_test)\n",
    "y_pred_knn = knn.predict(x_test)\n",
    "y_pred_dtree = knn.predict(x_test)\n",
    "y_pred_rfc = knn.predict(x_test)\n",
    "\n",
    "# Confusion Matrix \n",
    "lreg_accuracy = round(accuracy_score(y_test, y_pred_lreg) * 100,2)\n",
    "svc_accuracy = round(accuracy_score(y_test, y_pred_svc) * 100,2)\n",
    "knn_accuracy = round(accuracy_score(y_test, y_pred_knn)*100,2)\n",
    "dtree_accuracy = round(accuracy_score(y_test, y_pred_dtree)*100,2)\n",
    "rfc_accuracy = round(accuracy_score(y_test, y_pred_rfc)*100,2)\n",
    "\n",
    "print('LReg:',lreg_accuracy)\n",
    "print('SVC:',svc_accuracy)\n",
    "print('KNN:',knn_accuracy)\n",
    "print('DTree:',dtree_accuracy)\n",
    "print('RFC:',rfc_accuracy)\n",
    "\n"
   ]
  },
  {
   "cell_type": "code",
   "execution_count": 45,
   "metadata": {},
   "outputs": [
    {
     "name": "stdout",
     "output_type": "stream",
     "text": [
      "x_train (714, 8)\n",
      "y_train (714,)\n",
      "x_test (595, 8)\n"
     ]
    }
   ],
   "source": [
    "y_train = train_data['Survived']\n",
    "x_train = train_data.drop(['Survived'], axis=1)\n",
    "x_test = test_data.drop(['Survived'], axis=1)\n",
    "\n",
    "print('x_train', x_train.shape)\n",
    "print('y_train', y_train.shape)\n",
    "print('x_test', x_test.shape)\n",
    "\n",
    "from sklearn.model_selection import train_test_split\n",
    "x_train, x_test, y_train, y_test = train_test_split(x,y, test_size = 0.20, random_state=101)\n",
    "\n",
    "lreg2 = LogisticRegression()\n",
    "lreg2.fit(x_train, y_train)\n",
    "\n",
    "y_pred = lreg2.predict(x_test)"
   ]
  }
 ],
 "metadata": {
  "kernelspec": {
   "display_name": "ipy-jupyter-venv3.9",
   "language": "python",
   "name": "myipy_jupter_env3.9"
  },
  "language_info": {
   "codemirror_mode": {
    "name": "ipython",
    "version": 3
   },
   "file_extension": ".py",
   "mimetype": "text/x-python",
   "name": "python",
   "nbconvert_exporter": "python",
   "pygments_lexer": "ipython3",
   "version": "3.9.2"
  },
  "orig_nbformat": 4,
  "vscode": {
   "interpreter": {
    "hash": "aee8b7b246df8f9039afb4144a1f6fd8d2ca17a180786b69acc140d282b71a49"
   }
  }
 },
 "nbformat": 4,
 "nbformat_minor": 2
}
